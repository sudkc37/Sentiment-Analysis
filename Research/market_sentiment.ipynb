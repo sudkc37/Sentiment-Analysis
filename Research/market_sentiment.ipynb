{
 "cells": [
  {
   "cell_type": "markdown",
   "metadata": {},
   "source": [
    "1. Scrap the news articles from yahoofinance for interested Ticker and date\n",
    "2. Save it in dataframe\n",
    "3. Summarize  each articles using NLP\n",
    "4. Calculate the sentiment of the summarized articles"
   ]
  },
  {
   "cell_type": "code",
   "execution_count": 1,
   "metadata": {},
   "outputs": [],
   "source": [
    "#!pip install yahoo_fin pyarrow requests_html lxml_html_clean"
   ]
  },
  {
   "cell_type": "markdown",
   "metadata": {},
   "source": []
  },
  {
   "cell_type": "code",
   "execution_count": 2,
   "metadata": {},
   "outputs": [
    {
     "name": "stderr",
     "output_type": "stream",
     "text": [
      "/Users/sudipkhadka/Desktop/Sentiment-Analysis/.sen/lib/python3.9/site-packages/tqdm/auto.py:21: TqdmWarning: IProgress not found. Please update jupyter and ipywidgets. See https://ipywidgets.readthedocs.io/en/stable/user_install.html\n",
      "  from .autonotebook import tqdm as notebook_tqdm\n"
     ]
    }
   ],
   "source": [
    "import numpy as np\n",
    "import pandas as pd\n",
    "import torch\n",
    "import requests\n",
    "import re\n",
    "from bs4 import BeautifulSoup\n",
    "from transformers import pipeline\n",
    "import concurrent.futures\n",
    "import unicodedata\n",
    "import json\n",
    "from transformers import AutoTokenizer, AutoModelForSequenceClassification"
   ]
  },
  {
   "cell_type": "code",
   "execution_count": 3,
   "metadata": {},
   "outputs": [],
   "source": [
    "from yahoo_fin import news"
   ]
  },
  {
   "cell_type": "code",
   "execution_count": 4,
   "metadata": {},
   "outputs": [],
   "source": [
    "#sentiment_pipeline = pipeline(\"sentiment-analysis\", model='distilbert/distilbert-base-uncased-finetuned-sst-2-english') default"
   ]
  },
  {
   "cell_type": "code",
   "execution_count": 5,
   "metadata": {},
   "outputs": [],
   "source": [
    "#sentiment_pipeline = pipeline(\"sentiment-analysis\", model='yiyanghkust/finbert-tone')\n",
    "\n"
   ]
  },
  {
   "cell_type": "code",
   "execution_count": 6,
   "metadata": {},
   "outputs": [
    {
     "name": "stderr",
     "output_type": "stream",
     "text": [
      "Some weights of BartForSequenceClassification were not initialized from the model checkpoint at nickmuchi/fb-bart-large-finetuned-trade-the-event-finance-summarizer and are newly initialized: ['classification_head.dense.bias', 'classification_head.dense.weight', 'classification_head.out_proj.bias', 'classification_head.out_proj.weight']\n",
      "You should probably TRAIN this model on a down-stream task to be able to use it for predictions and inference.\n",
      "Device set to use mps:0\n"
     ]
    }
   ],
   "source": [
    "sentiment_pipeline = pipeline(\"sentiment-analysis\", model='nickmuchi/fb-bart-large-finetuned-trade-the-event-finance-summarizer')"
   ]
  },
  {
   "cell_type": "code",
   "execution_count": 1,
   "metadata": {},
   "outputs": [
    {
     "ename": "NameError",
     "evalue": "name 'pipeline' is not defined",
     "output_type": "error",
     "traceback": [
      "\u001b[0;31m---------------------------------------------------------------------------\u001b[0m",
      "\u001b[0;31mNameError\u001b[0m                                 Traceback (most recent call last)",
      "Cell \u001b[0;32mIn[1], line 1\u001b[0m\n\u001b[0;32m----> 1\u001b[0m summarizer \u001b[38;5;241m=\u001b[39m \u001b[43mpipeline\u001b[49m(\u001b[38;5;124m'\u001b[39m\u001b[38;5;124msummarization\u001b[39m\u001b[38;5;124m'\u001b[39m, model\u001b[38;5;241m=\u001b[39m\u001b[38;5;124m'\u001b[39m\u001b[38;5;124mnickmuchi/fb-bart-large-finetuned-trade-the-event-finance-summarizer\u001b[39m\u001b[38;5;124m'\u001b[39m)\n",
      "\u001b[0;31mNameError\u001b[0m: name 'pipeline' is not defined"
     ]
    }
   ],
   "source": [
    "summarizer = pipeline('summarization')"
   ]
  },
  {
   "cell_type": "code",
   "execution_count": 8,
   "metadata": {},
   "outputs": [],
   "source": [
    "def get_article_text(url):\n",
    "    try:\n",
    "        response = requests.get(url, timeout=10)\n",
    "        if response.status_code == 200:\n",
    "            soup = BeautifulSoup(response.text, 'html.parser')\n",
    "            paragprahs = soup.find_all('p')\n",
    "            article_text = ' '.join([p.get_text() for p in paragprahs])\n",
    "            article_text = basic_cleanup(article_text)\n",
    "            return article_text\n",
    "        else:\n",
    "            print(f\"Failed to get article text from {url} got a response code of {response.status_code}\")\n",
    "            return \"N/A\"\n",
    "    except Exception as e:\n",
    "        print(f\"Failed to get article text from {url}: {e}\")\n",
    "        return \"N/A\""
   ]
  },
  {
   "cell_type": "code",
   "execution_count": 9,
   "metadata": {},
   "outputs": [
    {
     "data": {
      "text/html": [
       "<div>\n",
       "<style scoped>\n",
       "    .dataframe tbody tr th:only-of-type {\n",
       "        vertical-align: middle;\n",
       "    }\n",
       "\n",
       "    .dataframe tbody tr th {\n",
       "        vertical-align: top;\n",
       "    }\n",
       "\n",
       "    .dataframe thead th {\n",
       "        text-align: right;\n",
       "    }\n",
       "</style>\n",
       "<table border=\"1\" class=\"dataframe\">\n",
       "  <thead>\n",
       "    <tr style=\"text-align: right;\">\n",
       "      <th></th>\n",
       "      <th>summary</th>\n",
       "      <th>summary_detail</th>\n",
       "      <th>id</th>\n",
       "      <th>guidislink</th>\n",
       "      <th>links</th>\n",
       "      <th>link</th>\n",
       "      <th>published</th>\n",
       "      <th>published_parsed</th>\n",
       "      <th>title</th>\n",
       "      <th>title_detail</th>\n",
       "    </tr>\n",
       "  </thead>\n",
       "  <tbody>\n",
       "    <tr>\n",
       "      <th>0</th>\n",
       "      <td>It would be an understatement to say that Pala...</td>\n",
       "      <td>{'type': 'text/html', 'language': None, 'base'...</td>\n",
       "      <td>a3149ade-9521-33ee-8d8d-3e18e1baaf00</td>\n",
       "      <td>False</td>\n",
       "      <td>[{'rel': 'alternate', 'type': 'text/html', 'hr...</td>\n",
       "      <td>https://www.fool.com/investing/2024/12/06/wher...</td>\n",
       "      <td>Fri, 06 Dec 2024 22:00:00 +0000</td>\n",
       "      <td>(2024, 12, 6, 22, 0, 0, 4, 341, 0)</td>\n",
       "      <td>Where Will Palantir Technologies Stock Be in 1...</td>\n",
       "      <td>{'type': 'text/plain', 'language': None, 'base...</td>\n",
       "    </tr>\n",
       "    <tr>\n",
       "      <th>1</th>\n",
       "      <td>The Nasdaq is closing in on the 20,000 level b...</td>\n",
       "      <td>{'type': 'text/html', 'language': None, 'base'...</td>\n",
       "      <td>15a2cb08-33be-325d-bfd4-c341e781aa60</td>\n",
       "      <td>False</td>\n",
       "      <td>[{'rel': 'alternate', 'type': 'text/html', 'hr...</td>\n",
       "      <td>https://finance.yahoo.com/m/15a2cb08-33be-325d...</td>\n",
       "      <td>Fri, 06 Dec 2024 21:45:38 +0000</td>\n",
       "      <td>(2024, 12, 6, 21, 45, 38, 4, 341, 0)</td>\n",
       "      <td>Dow Jones Futures: Nasdaq Nears 20,000 But Wat...</td>\n",
       "      <td>{'type': 'text/plain', 'language': None, 'base...</td>\n",
       "    </tr>\n",
       "    <tr>\n",
       "      <th>2</th>\n",
       "      <td>AppLovin is just one of three \"aptly\" named hi...</td>\n",
       "      <td>{'type': 'text/html', 'language': None, 'base'...</td>\n",
       "      <td>422d6d71-3f6d-36ca-9315-fb68a08b430a</td>\n",
       "      <td>False</td>\n",
       "      <td>[{'rel': 'alternate', 'type': 'text/html', 'hr...</td>\n",
       "      <td>https://finance.yahoo.com/m/422d6d71-3f6d-36ca...</td>\n",
       "      <td>Fri, 06 Dec 2024 21:07:32 +0000</td>\n",
       "      <td>(2024, 12, 6, 21, 7, 32, 4, 341, 0)</td>\n",
       "      <td>The 'Apps' Have It — So Does Palantir And 26 O...</td>\n",
       "      <td>{'type': 'text/plain', 'language': None, 'base...</td>\n",
       "    </tr>\n",
       "    <tr>\n",
       "      <th>3</th>\n",
       "      <td>SoundHound stock rose Thursday and Friday afte...</td>\n",
       "      <td>{'type': 'text/html', 'language': None, 'base'...</td>\n",
       "      <td>09c4654c-c30c-3419-a728-7459a994ea3b</td>\n",
       "      <td>False</td>\n",
       "      <td>[{'rel': 'alternate', 'type': 'text/html', 'hr...</td>\n",
       "      <td>https://finance.yahoo.com/m/09c4654c-c30c-3419...</td>\n",
       "      <td>Fri, 06 Dec 2024 21:06:35 +0000</td>\n",
       "      <td>(2024, 12, 6, 21, 6, 35, 4, 341, 0)</td>\n",
       "      <td>Nvidia-backed SoundHound Notches 61% Weekly Ga...</td>\n",
       "      <td>{'type': 'text/plain', 'language': None, 'base...</td>\n",
       "    </tr>\n",
       "    <tr>\n",
       "      <th>4</th>\n",
       "      <td>Dubbed the Magnificent Seven stocks, Apple, Mi...</td>\n",
       "      <td>{'type': 'text/html', 'language': None, 'base'...</td>\n",
       "      <td>4205eaa9-f620-3a0b-a81a-0e82c7c9fd0b</td>\n",
       "      <td>False</td>\n",
       "      <td>[{'rel': 'alternate', 'type': 'text/html', 'hr...</td>\n",
       "      <td>https://finance.yahoo.com/m/4205eaa9-f620-3a0b...</td>\n",
       "      <td>Fri, 06 Dec 2024 20:45:42 +0000</td>\n",
       "      <td>(2024, 12, 6, 20, 45, 42, 4, 341, 0)</td>\n",
       "      <td>Magnificent Seven Stocks: Nvidia Stock Slides;...</td>\n",
       "      <td>{'type': 'text/plain', 'language': None, 'base...</td>\n",
       "    </tr>\n",
       "  </tbody>\n",
       "</table>\n",
       "</div>"
      ],
      "text/plain": [
       "                                             summary  \\\n",
       "0  It would be an understatement to say that Pala...   \n",
       "1  The Nasdaq is closing in on the 20,000 level b...   \n",
       "2  AppLovin is just one of three \"aptly\" named hi...   \n",
       "3  SoundHound stock rose Thursday and Friday afte...   \n",
       "4  Dubbed the Magnificent Seven stocks, Apple, Mi...   \n",
       "\n",
       "                                      summary_detail  \\\n",
       "0  {'type': 'text/html', 'language': None, 'base'...   \n",
       "1  {'type': 'text/html', 'language': None, 'base'...   \n",
       "2  {'type': 'text/html', 'language': None, 'base'...   \n",
       "3  {'type': 'text/html', 'language': None, 'base'...   \n",
       "4  {'type': 'text/html', 'language': None, 'base'...   \n",
       "\n",
       "                                     id  guidislink  \\\n",
       "0  a3149ade-9521-33ee-8d8d-3e18e1baaf00       False   \n",
       "1  15a2cb08-33be-325d-bfd4-c341e781aa60       False   \n",
       "2  422d6d71-3f6d-36ca-9315-fb68a08b430a       False   \n",
       "3  09c4654c-c30c-3419-a728-7459a994ea3b       False   \n",
       "4  4205eaa9-f620-3a0b-a81a-0e82c7c9fd0b       False   \n",
       "\n",
       "                                               links  \\\n",
       "0  [{'rel': 'alternate', 'type': 'text/html', 'hr...   \n",
       "1  [{'rel': 'alternate', 'type': 'text/html', 'hr...   \n",
       "2  [{'rel': 'alternate', 'type': 'text/html', 'hr...   \n",
       "3  [{'rel': 'alternate', 'type': 'text/html', 'hr...   \n",
       "4  [{'rel': 'alternate', 'type': 'text/html', 'hr...   \n",
       "\n",
       "                                                link  \\\n",
       "0  https://www.fool.com/investing/2024/12/06/wher...   \n",
       "1  https://finance.yahoo.com/m/15a2cb08-33be-325d...   \n",
       "2  https://finance.yahoo.com/m/422d6d71-3f6d-36ca...   \n",
       "3  https://finance.yahoo.com/m/09c4654c-c30c-3419...   \n",
       "4  https://finance.yahoo.com/m/4205eaa9-f620-3a0b...   \n",
       "\n",
       "                         published                      published_parsed  \\\n",
       "0  Fri, 06 Dec 2024 22:00:00 +0000    (2024, 12, 6, 22, 0, 0, 4, 341, 0)   \n",
       "1  Fri, 06 Dec 2024 21:45:38 +0000  (2024, 12, 6, 21, 45, 38, 4, 341, 0)   \n",
       "2  Fri, 06 Dec 2024 21:07:32 +0000   (2024, 12, 6, 21, 7, 32, 4, 341, 0)   \n",
       "3  Fri, 06 Dec 2024 21:06:35 +0000   (2024, 12, 6, 21, 6, 35, 4, 341, 0)   \n",
       "4  Fri, 06 Dec 2024 20:45:42 +0000  (2024, 12, 6, 20, 45, 42, 4, 341, 0)   \n",
       "\n",
       "                                               title  \\\n",
       "0  Where Will Palantir Technologies Stock Be in 1...   \n",
       "1  Dow Jones Futures: Nasdaq Nears 20,000 But Wat...   \n",
       "2  The 'Apps' Have It — So Does Palantir And 26 O...   \n",
       "3  Nvidia-backed SoundHound Notches 61% Weekly Ga...   \n",
       "4  Magnificent Seven Stocks: Nvidia Stock Slides;...   \n",
       "\n",
       "                                        title_detail  \n",
       "0  {'type': 'text/plain', 'language': None, 'base...  \n",
       "1  {'type': 'text/plain', 'language': None, 'base...  \n",
       "2  {'type': 'text/plain', 'language': None, 'base...  \n",
       "3  {'type': 'text/plain', 'language': None, 'base...  \n",
       "4  {'type': 'text/plain', 'language': None, 'base...  "
      ]
     },
     "execution_count": 9,
     "metadata": {},
     "output_type": "execute_result"
    }
   ],
   "source": [
    "stock_news = news.get_yf_rss(\"NVDA\")\n",
    "df = pd.DataFrame(stock_news)\n",
    "df.head()"
   ]
  },
  {
   "cell_type": "code",
   "execution_count": 10,
   "metadata": {},
   "outputs": [
    {
     "data": {
      "text/plain": [
       "'It would be an understatement to say that Palantir Technologies (NASDAQ: PLTR) stock has been in fine form on the market in 2024, as shares of the software platform specialist have shot up a stunning 290% so far this year as of this writing.  The past month alone has been a terrific one for Palantir investors as the stock has zoomed 62% since releasing its third-quarter results on Nov. 4.  Artificial intelligence (AI) has played a defining role in this red-hot rally as enterprises and governments have been flocking to Palantir to help them integrate generative AI into their operations, helping the company accelerate its growth and build a robust revenue pipeline.'"
      ]
     },
     "execution_count": 10,
     "metadata": {},
     "output_type": "execute_result"
    }
   ],
   "source": [
    "df['summary'][0]"
   ]
  },
  {
   "cell_type": "code",
   "execution_count": 11,
   "metadata": {},
   "outputs": [
    {
     "data": {
      "text/plain": [
       "'Where Will Palantir Technologies Stock Be in 1 Year?'"
      ]
     },
     "execution_count": 11,
     "metadata": {},
     "output_type": "execute_result"
    }
   ],
   "source": [
    "df['title'][0]"
   ]
  },
  {
   "cell_type": "code",
   "execution_count": 12,
   "metadata": {},
   "outputs": [
    {
     "data": {
      "text/plain": [
       "'The Nasdaq is closing in on the 20,000 level but is starting to get extended. Four tech titans are flashing buy signals.'"
      ]
     },
     "execution_count": 12,
     "metadata": {},
     "output_type": "execute_result"
    }
   ],
   "source": [
    "df['summary'][1]"
   ]
  },
  {
   "cell_type": "markdown",
   "metadata": {},
   "source": [
    "## Sentiment Scoring"
   ]
  },
  {
   "cell_type": "markdown",
   "metadata": {},
   "source": [
    "FinBERT is a pre-trained NLP model to analyze sentiment of financial text. It is built by further training the BERT language model in the finance domain, using a large financial corpus and thereby fine-tuning it for financial sentiment classification."
   ]
  },
  {
   "cell_type": "code",
   "execution_count": 13,
   "metadata": {},
   "outputs": [],
   "source": [
    "tokenizer = AutoTokenizer.from_pretrained('ProsusAI/finbert')\n",
    "model = AutoModelForSequenceClassification.from_pretrained('ProsusAI/finbert')"
   ]
  },
  {
   "cell_type": "code",
   "execution_count": 14,
   "metadata": {},
   "outputs": [],
   "source": [
    "def sentiment_score(news):\n",
    "    tokens = tokenizer.encode(news, return_tensors='pt')\n",
    "    result = model(tokens)\n",
    "    return int(torch.argmax(result.logits))+1"
   ]
  },
  {
   "cell_type": "code",
   "execution_count": 15,
   "metadata": {},
   "outputs": [
    {
     "data": {
      "text/plain": [
       "3"
      ]
     },
     "execution_count": 15,
     "metadata": {},
     "output_type": "execute_result"
    }
   ],
   "source": [
    "sentiment_score(df['summary'][5])"
   ]
  },
  {
   "cell_type": "code",
   "execution_count": 16,
   "metadata": {},
   "outputs": [
    {
     "data": {
      "text/plain": [
       "\"SoundHound stock rose Thursday and Friday after the company inked a deal with Torchy's Tacos to use its voice AI technology.\""
      ]
     },
     "execution_count": 16,
     "metadata": {},
     "output_type": "execute_result"
    }
   ],
   "source": [
    "df['summary'][3]"
   ]
  },
  {
   "cell_type": "code",
   "execution_count": 17,
   "metadata": {},
   "outputs": [],
   "source": [
    "df['market Sentiments'] = df['summary'].apply(lambda x: sentiment_score(x))\n"
   ]
  },
  {
   "cell_type": "code",
   "execution_count": 18,
   "metadata": {},
   "outputs": [
    {
     "data": {
      "text/html": [
       "<div>\n",
       "<style scoped>\n",
       "    .dataframe tbody tr th:only-of-type {\n",
       "        vertical-align: middle;\n",
       "    }\n",
       "\n",
       "    .dataframe tbody tr th {\n",
       "        vertical-align: top;\n",
       "    }\n",
       "\n",
       "    .dataframe thead th {\n",
       "        text-align: right;\n",
       "    }\n",
       "</style>\n",
       "<table border=\"1\" class=\"dataframe\">\n",
       "  <thead>\n",
       "    <tr style=\"text-align: right;\">\n",
       "      <th></th>\n",
       "      <th>market Sentiments</th>\n",
       "      <th>summary</th>\n",
       "    </tr>\n",
       "  </thead>\n",
       "  <tbody>\n",
       "    <tr>\n",
       "      <th>0</th>\n",
       "      <td>1</td>\n",
       "      <td>It would be an understatement to say that Pala...</td>\n",
       "    </tr>\n",
       "    <tr>\n",
       "      <th>1</th>\n",
       "      <td>3</td>\n",
       "      <td>The Nasdaq is closing in on the 20,000 level b...</td>\n",
       "    </tr>\n",
       "    <tr>\n",
       "      <th>2</th>\n",
       "      <td>3</td>\n",
       "      <td>AppLovin is just one of three \"aptly\" named hi...</td>\n",
       "    </tr>\n",
       "    <tr>\n",
       "      <th>3</th>\n",
       "      <td>1</td>\n",
       "      <td>SoundHound stock rose Thursday and Friday afte...</td>\n",
       "    </tr>\n",
       "    <tr>\n",
       "      <th>4</th>\n",
       "      <td>1</td>\n",
       "      <td>Dubbed the Magnificent Seven stocks, Apple, Mi...</td>\n",
       "    </tr>\n",
       "    <tr>\n",
       "      <th>5</th>\n",
       "      <td>3</td>\n",
       "      <td>We recently published a list of 14 AI News and...</td>\n",
       "    </tr>\n",
       "    <tr>\n",
       "      <th>6</th>\n",
       "      <td>1</td>\n",
       "      <td>The company has partnered with Nvidia to deplo...</td>\n",
       "    </tr>\n",
       "    <tr>\n",
       "      <th>7</th>\n",
       "      <td>2</td>\n",
       "      <td>EU Investigates Nvidia for Potential Antitrust...</td>\n",
       "    </tr>\n",
       "    <tr>\n",
       "      <th>8</th>\n",
       "      <td>3</td>\n",
       "      <td>Fast-food companies are joining other industri...</td>\n",
       "    </tr>\n",
       "    <tr>\n",
       "      <th>9</th>\n",
       "      <td>3</td>\n",
       "      <td>(Updates with Nvidia's response in the sixth p...</td>\n",
       "    </tr>\n",
       "    <tr>\n",
       "      <th>10</th>\n",
       "      <td>3</td>\n",
       "      <td>It’s no surprise some of the world’s top tech ...</td>\n",
       "    </tr>\n",
       "    <tr>\n",
       "      <th>11</th>\n",
       "      <td>3</td>\n",
       "      <td>(Bloomberg) -- Artificial intelligence startup...</td>\n",
       "    </tr>\n",
       "    <tr>\n",
       "      <th>12</th>\n",
       "      <td>3</td>\n",
       "      <td>Shares of Hewlett Packard Enterprise (HPE) are...</td>\n",
       "    </tr>\n",
       "    <tr>\n",
       "      <th>13</th>\n",
       "      <td>3</td>\n",
       "      <td>The production of its most advanced semiconduc...</td>\n",
       "    </tr>\n",
       "    <tr>\n",
       "      <th>14</th>\n",
       "      <td>2</td>\n",
       "      <td>Hewlett Packard Enterprise's AI server growth ...</td>\n",
       "    </tr>\n",
       "    <tr>\n",
       "      <th>15</th>\n",
       "      <td>2</td>\n",
       "      <td>A calm precedes a storm. Nvidia may be the bes...</td>\n",
       "    </tr>\n",
       "    <tr>\n",
       "      <th>16</th>\n",
       "      <td>3</td>\n",
       "      <td>Zacks.com users have recently been watching Nv...</td>\n",
       "    </tr>\n",
       "    <tr>\n",
       "      <th>17</th>\n",
       "      <td>3</td>\n",
       "      <td>We recently published a list of 14 AI News and...</td>\n",
       "    </tr>\n",
       "    <tr>\n",
       "      <th>18</th>\n",
       "      <td>3</td>\n",
       "      <td>Artificial intelligence (AI) is already a huge...</td>\n",
       "    </tr>\n",
       "    <tr>\n",
       "      <th>19</th>\n",
       "      <td>3</td>\n",
       "      <td>Expressed as a percentage, a profit margin is ...</td>\n",
       "    </tr>\n",
       "  </tbody>\n",
       "</table>\n",
       "</div>"
      ],
      "text/plain": [
       "    market Sentiments                                            summary\n",
       "0                   1  It would be an understatement to say that Pala...\n",
       "1                   3  The Nasdaq is closing in on the 20,000 level b...\n",
       "2                   3  AppLovin is just one of three \"aptly\" named hi...\n",
       "3                   1  SoundHound stock rose Thursday and Friday afte...\n",
       "4                   1  Dubbed the Magnificent Seven stocks, Apple, Mi...\n",
       "5                   3  We recently published a list of 14 AI News and...\n",
       "6                   1  The company has partnered with Nvidia to deplo...\n",
       "7                   2  EU Investigates Nvidia for Potential Antitrust...\n",
       "8                   3  Fast-food companies are joining other industri...\n",
       "9                   3  (Updates with Nvidia's response in the sixth p...\n",
       "10                  3  It’s no surprise some of the world’s top tech ...\n",
       "11                  3  (Bloomberg) -- Artificial intelligence startup...\n",
       "12                  3  Shares of Hewlett Packard Enterprise (HPE) are...\n",
       "13                  3  The production of its most advanced semiconduc...\n",
       "14                  2  Hewlett Packard Enterprise's AI server growth ...\n",
       "15                  2  A calm precedes a storm. Nvidia may be the bes...\n",
       "16                  3  Zacks.com users have recently been watching Nv...\n",
       "17                  3  We recently published a list of 14 AI News and...\n",
       "18                  3  Artificial intelligence (AI) is already a huge...\n",
       "19                  3  Expressed as a percentage, a profit margin is ..."
      ]
     },
     "execution_count": 18,
     "metadata": {},
     "output_type": "execute_result"
    }
   ],
   "source": [
    "df[['market Sentiments','summary']]"
   ]
  },
  {
   "cell_type": "code",
   "execution_count": 19,
   "metadata": {},
   "outputs": [],
   "source": [
    "df['market Sentiments'] = df['market Sentiments'].apply(\n",
    "    lambda x: 'Positive' if x == 3 else 'Neutral' if x==2 else 'Negative'\n",
    ")"
   ]
  },
  {
   "cell_type": "code",
   "execution_count": 20,
   "metadata": {},
   "outputs": [
    {
     "data": {
      "text/html": [
       "<div>\n",
       "<style scoped>\n",
       "    .dataframe tbody tr th:only-of-type {\n",
       "        vertical-align: middle;\n",
       "    }\n",
       "\n",
       "    .dataframe tbody tr th {\n",
       "        vertical-align: top;\n",
       "    }\n",
       "\n",
       "    .dataframe thead th {\n",
       "        text-align: right;\n",
       "    }\n",
       "</style>\n",
       "<table border=\"1\" class=\"dataframe\">\n",
       "  <thead>\n",
       "    <tr style=\"text-align: right;\">\n",
       "      <th></th>\n",
       "      <th>market Sentiments</th>\n",
       "      <th>summary</th>\n",
       "    </tr>\n",
       "  </thead>\n",
       "  <tbody>\n",
       "    <tr>\n",
       "      <th>0</th>\n",
       "      <td>Negative</td>\n",
       "      <td>It would be an understatement to say that Pala...</td>\n",
       "    </tr>\n",
       "    <tr>\n",
       "      <th>1</th>\n",
       "      <td>Positive</td>\n",
       "      <td>The Nasdaq is closing in on the 20,000 level b...</td>\n",
       "    </tr>\n",
       "    <tr>\n",
       "      <th>2</th>\n",
       "      <td>Positive</td>\n",
       "      <td>AppLovin is just one of three \"aptly\" named hi...</td>\n",
       "    </tr>\n",
       "    <tr>\n",
       "      <th>3</th>\n",
       "      <td>Negative</td>\n",
       "      <td>SoundHound stock rose Thursday and Friday afte...</td>\n",
       "    </tr>\n",
       "    <tr>\n",
       "      <th>4</th>\n",
       "      <td>Negative</td>\n",
       "      <td>Dubbed the Magnificent Seven stocks, Apple, Mi...</td>\n",
       "    </tr>\n",
       "    <tr>\n",
       "      <th>5</th>\n",
       "      <td>Positive</td>\n",
       "      <td>We recently published a list of 14 AI News and...</td>\n",
       "    </tr>\n",
       "    <tr>\n",
       "      <th>6</th>\n",
       "      <td>Negative</td>\n",
       "      <td>The company has partnered with Nvidia to deplo...</td>\n",
       "    </tr>\n",
       "    <tr>\n",
       "      <th>7</th>\n",
       "      <td>Neutral</td>\n",
       "      <td>EU Investigates Nvidia for Potential Antitrust...</td>\n",
       "    </tr>\n",
       "    <tr>\n",
       "      <th>8</th>\n",
       "      <td>Positive</td>\n",
       "      <td>Fast-food companies are joining other industri...</td>\n",
       "    </tr>\n",
       "    <tr>\n",
       "      <th>9</th>\n",
       "      <td>Positive</td>\n",
       "      <td>(Updates with Nvidia's response in the sixth p...</td>\n",
       "    </tr>\n",
       "    <tr>\n",
       "      <th>10</th>\n",
       "      <td>Positive</td>\n",
       "      <td>It’s no surprise some of the world’s top tech ...</td>\n",
       "    </tr>\n",
       "    <tr>\n",
       "      <th>11</th>\n",
       "      <td>Positive</td>\n",
       "      <td>(Bloomberg) -- Artificial intelligence startup...</td>\n",
       "    </tr>\n",
       "    <tr>\n",
       "      <th>12</th>\n",
       "      <td>Positive</td>\n",
       "      <td>Shares of Hewlett Packard Enterprise (HPE) are...</td>\n",
       "    </tr>\n",
       "    <tr>\n",
       "      <th>13</th>\n",
       "      <td>Positive</td>\n",
       "      <td>The production of its most advanced semiconduc...</td>\n",
       "    </tr>\n",
       "    <tr>\n",
       "      <th>14</th>\n",
       "      <td>Neutral</td>\n",
       "      <td>Hewlett Packard Enterprise's AI server growth ...</td>\n",
       "    </tr>\n",
       "    <tr>\n",
       "      <th>15</th>\n",
       "      <td>Neutral</td>\n",
       "      <td>A calm precedes a storm. Nvidia may be the bes...</td>\n",
       "    </tr>\n",
       "    <tr>\n",
       "      <th>16</th>\n",
       "      <td>Positive</td>\n",
       "      <td>Zacks.com users have recently been watching Nv...</td>\n",
       "    </tr>\n",
       "    <tr>\n",
       "      <th>17</th>\n",
       "      <td>Positive</td>\n",
       "      <td>We recently published a list of 14 AI News and...</td>\n",
       "    </tr>\n",
       "    <tr>\n",
       "      <th>18</th>\n",
       "      <td>Positive</td>\n",
       "      <td>Artificial intelligence (AI) is already a huge...</td>\n",
       "    </tr>\n",
       "    <tr>\n",
       "      <th>19</th>\n",
       "      <td>Positive</td>\n",
       "      <td>Expressed as a percentage, a profit margin is ...</td>\n",
       "    </tr>\n",
       "  </tbody>\n",
       "</table>\n",
       "</div>"
      ],
      "text/plain": [
       "   market Sentiments                                            summary\n",
       "0           Negative  It would be an understatement to say that Pala...\n",
       "1           Positive  The Nasdaq is closing in on the 20,000 level b...\n",
       "2           Positive  AppLovin is just one of three \"aptly\" named hi...\n",
       "3           Negative  SoundHound stock rose Thursday and Friday afte...\n",
       "4           Negative  Dubbed the Magnificent Seven stocks, Apple, Mi...\n",
       "5           Positive  We recently published a list of 14 AI News and...\n",
       "6           Negative  The company has partnered with Nvidia to deplo...\n",
       "7            Neutral  EU Investigates Nvidia for Potential Antitrust...\n",
       "8           Positive  Fast-food companies are joining other industri...\n",
       "9           Positive  (Updates with Nvidia's response in the sixth p...\n",
       "10          Positive  It’s no surprise some of the world’s top tech ...\n",
       "11          Positive  (Bloomberg) -- Artificial intelligence startup...\n",
       "12          Positive  Shares of Hewlett Packard Enterprise (HPE) are...\n",
       "13          Positive  The production of its most advanced semiconduc...\n",
       "14           Neutral  Hewlett Packard Enterprise's AI server growth ...\n",
       "15           Neutral  A calm precedes a storm. Nvidia may be the bes...\n",
       "16          Positive  Zacks.com users have recently been watching Nv...\n",
       "17          Positive  We recently published a list of 14 AI News and...\n",
       "18          Positive  Artificial intelligence (AI) is already a huge...\n",
       "19          Positive  Expressed as a percentage, a profit margin is ..."
      ]
     },
     "execution_count": 20,
     "metadata": {},
     "output_type": "execute_result"
    }
   ],
   "source": [
    "df[['market Sentiments','summary']]"
   ]
  },
  {
   "cell_type": "code",
   "execution_count": 21,
   "metadata": {},
   "outputs": [
    {
     "name": "stdout",
     "output_type": "stream",
     "text": [
      "Market Sentiment is: Positive\n"
     ]
    }
   ],
   "source": [
    "market_sentiment = df['market Sentiments'].mode()[0]\n",
    "print(f'Market Sentiment is: {market_sentiment}')"
   ]
  },
  {
   "cell_type": "markdown",
   "metadata": {},
   "source": [
    "## Now use all the summarized articles and give the final summary to back up your sentement."
   ]
  },
  {
   "cell_type": "code",
   "execution_count": 22,
   "metadata": {},
   "outputs": [],
   "source": [
    "all_summary = \" \".join(df['summary'].astype(str).tolist())"
   ]
  },
  {
   "cell_type": "code",
   "execution_count": 23,
   "metadata": {},
   "outputs": [
    {
     "name": "stderr",
     "output_type": "stream",
     "text": [
      "Token indices sequence length is longer than the specified maximum sequence length for this model (1055 > 1024). Running this sequence through the model will result in indexing errors\n"
     ]
    }
   ],
   "source": [
    "summary_result = summarizer(all_summary, max_length=200, min_length=50, do_sample=False)"
   ]
  },
  {
   "cell_type": "code",
   "execution_count": 24,
   "metadata": {},
   "outputs": [
    {
     "data": {
      "text/plain": [
       "[{'summary_text': ' Palantir Technologies (NASDAQ: PLTR) stock has been in fine form on the market in 2024, as shares of the software platform specialist have shot up a stunning 290% so far this year . The past month alone has been a terrific one for investors as the stock has zoomed 62% since releasing its third-quarter results on Nov. 4 . The United States government recently announced fresh curbs targeting the chip industry .'}]"
      ]
     },
     "execution_count": 24,
     "metadata": {},
     "output_type": "execute_result"
    }
   ],
   "source": [
    "summary_result"
   ]
  },
  {
   "cell_type": "code",
   "execution_count": 25,
   "metadata": {},
   "outputs": [
    {
     "name": "stderr",
     "output_type": "stream",
     "text": [
      "Device set to use mps:0\n"
     ]
    }
   ],
   "source": [
    "from transformers import pipeline\n",
    "\n",
    "rephraser = pipeline(\"text2text-generation\", model=\"t5-small\")  # Replace with a larger model if needed\n",
    "summarized_result = summarizer(all_summary, max_length=200, min_length=50, do_sample=False)\n",
    "\n"
   ]
  },
  {
   "cell_type": "code",
   "execution_count": 26,
   "metadata": {},
   "outputs": [
    {
     "data": {
      "text/plain": [
       "[{'summary_text': ' Palantir Technologies (NASDAQ: PLTR) stock has been in fine form on the market in 2024, as shares of the software platform specialist have shot up a stunning 290% so far this year . The past month alone has been a terrific one for investors as the stock has zoomed 62% since releasing its third-quarter results on Nov. 4 . The United States government recently announced fresh curbs targeting the chip industry .'}]"
      ]
     },
     "execution_count": 26,
     "metadata": {},
     "output_type": "execute_result"
    }
   ],
   "source": [
    "summarized_result"
   ]
  }
 ],
 "metadata": {
  "kernelspec": {
   "display_name": ".sen",
   "language": "python",
   "name": "python3"
  },
  "language_info": {
   "codemirror_mode": {
    "name": "ipython",
    "version": 3
   },
   "file_extension": ".py",
   "mimetype": "text/x-python",
   "name": "python",
   "nbconvert_exporter": "python",
   "pygments_lexer": "ipython3",
   "version": "3.9.20"
  }
 },
 "nbformat": 4,
 "nbformat_minor": 2
}
